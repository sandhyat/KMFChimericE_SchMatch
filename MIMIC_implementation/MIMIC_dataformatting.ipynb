{
 "cells": [
  {
   "cell_type": "code",
   "execution_count": 1,
   "id": "flexible-least",
   "metadata": {},
   "outputs": [],
   "source": [
    "import pandas as pd\n",
    "import numpy as np\n",
    "import matplotlib.pyplot as plt\n",
    "import re"
   ]
  },
  {
   "cell_type": "code",
   "execution_count": 2,
   "id": "another-colorado",
   "metadata": {},
   "outputs": [],
   "source": [
    "# Getting the list of patients with age more tahn 18 years\n",
    "patients_adm_age = pd.read_csv('/Adult_patientsAge.csv')\n",
    "\n",
    "# Getting list of all items along with the source and label\n",
    "item_id_dbsource = pd.read_csv('./d_items_chartevents.csv')\n",
    "# Getting list of all items along with the source and label\n",
    "item_id_labs = pd.read_csv('./d_items_labevents.csv')"
   ]
  },
  {
   "cell_type": "code",
   "execution_count": null,
   "id": "preliminary-exhibit",
   "metadata": {
    "scrolled": true
   },
   "outputs": [],
   "source": [
    "patients_adm_age.head()"
   ]
  },
  {
   "cell_type": "code",
   "execution_count": 25,
   "id": "complimentary-maintenance",
   "metadata": {},
   "outputs": [
    {
     "data": {
      "text/plain": [
       "(50765, 5)"
      ]
     },
     "execution_count": 25,
     "metadata": {},
     "output_type": "execute_result"
    }
   ],
   "source": [
    "patients_adm_age.shape"
   ]
  },
  {
   "cell_type": "code",
   "execution_count": null,
   "id": "loving-pacific",
   "metadata": {},
   "outputs": [],
   "source": [
    "patients_adm_age[patients_adm_age['age']>=300]"
   ]
  },
  {
   "cell_type": "code",
   "execution_count": 27,
   "id": "protected-validation",
   "metadata": {},
   "outputs": [],
   "source": [
    "# Whenever there is value >=300 in age column, replace it by 90\n",
    "patients_adm_age.loc[patients_adm_age['age'] >= 300, 'age'] = 90"
   ]
  },
  {
   "cell_type": "code",
   "execution_count": null,
   "id": "fewer-fishing",
   "metadata": {},
   "outputs": [],
   "source": [
    "# checking the unique age values\n",
    "patients_adm_age['age'].unique()"
   ]
  },
  {
   "cell_type": "code",
   "execution_count": 29,
   "id": "narrative-escape",
   "metadata": {},
   "outputs": [],
   "source": [
    "list_itemid_num_MV = item_id_dbsource[(item_id_dbsource['dbsource']=='metavision') & (item_id_dbsource['param_type'].isin(['Numeric','Numeric with tag']))]['itemid']\n",
    "list_itemid_cat_MV = item_id_dbsource[(item_id_dbsource['dbsource']=='metavision') & (item_id_dbsource['param_type'].isin(['Checkbox']))]['itemid']"
   ]
  },
  {
   "cell_type": "code",
   "execution_count": 30,
   "id": "synthetic-truck",
   "metadata": {},
   "outputs": [
    {
     "name": "stdout",
     "output_type": "stream",
     "text": [
      "num of numerics in MV  617\n",
      "num of cat in MV  307\n"
     ]
    }
   ],
   "source": [
    "print( \"num of numerics in MV \", len(list_itemid_num_MV))\n",
    "print( \"num of cat in MV \", len(list_itemid_cat_MV))"
   ]
  },
  {
   "cell_type": "markdown",
   "id": "critical-transparency",
   "metadata": {},
   "source": [
    "## Processing Labs"
   ]
  },
  {
   "cell_type": "code",
   "execution_count": 8,
   "id": "local-animal",
   "metadata": {},
   "outputs": [],
   "source": [
    "Mimic_lab_MV = pd.read_csv('mimic_labevents_metavision.csv')\n",
    "Mimic_lab_CV = pd.read_csv('mimic_labevents_carevue.csv')"
   ]
  },
  {
   "cell_type": "code",
   "execution_count": null,
   "id": "mysterious-income",
   "metadata": {},
   "outputs": [],
   "source": [
    "Mimic_lab_CV.head()"
   ]
  },
  {
   "cell_type": "code",
   "execution_count": 10,
   "id": "underlying-briefing",
   "metadata": {},
   "outputs": [],
   "source": [
    "Mimic_lab_MV_Formatted_value = Mimic_lab_MV.pivot(index='hadm_id', columns='itemid', values='valuenum')\n",
    "Mimic_lab_CV_Formatted_value = Mimic_lab_CV.pivot(index='hadm_id', columns='itemid', values='valuenum')"
   ]
  },
  {
   "cell_type": "code",
   "execution_count": 11,
   "id": "outer-highland",
   "metadata": {},
   "outputs": [
    {
     "data": {
      "text/plain": [
       "Int64Index([50800, 50801, 50802, 50803, 50804, 50805, 50806, 50808, 50809,\n",
       "            50810,\n",
       "            ...\n",
       "            51511, 51512, 51513, 51514, 51515, 51516, 51517, 51518, 51519,\n",
       "            51523],\n",
       "           dtype='int64', name='itemid', length=581)"
      ]
     },
     "execution_count": 11,
     "metadata": {},
     "output_type": "execute_result"
    }
   ],
   "source": [
    "Mimic_lab_CV_Formatted_value.columns"
   ]
  },
  {
   "cell_type": "code",
   "execution_count": 12,
   "id": "immediate-coordination",
   "metadata": {},
   "outputs": [
    {
     "data": {
      "text/plain": [
       "Int64Index([50800, 50801, 50802, 50803, 50804, 50805, 50806, 50808, 50809,\n",
       "            50810,\n",
       "            ...\n",
       "            51512, 51513, 51514, 51515, 51516, 51517, 51518, 51519, 51523,\n",
       "            51529],\n",
       "           dtype='int64', name='itemid', length=576)"
      ]
     },
     "execution_count": 12,
     "metadata": {},
     "output_type": "execute_result"
    }
   ],
   "source": [
    "Mimic_lab_MV_Formatted_value.columns"
   ]
  },
  {
   "cell_type": "code",
   "execution_count": 13,
   "id": "adjacent-tuning",
   "metadata": {},
   "outputs": [],
   "source": [
    "# Selecting only labs that are common between two eras becasue the labs are going to be treated as known mapped features\n",
    "Commonlab_lists =list(set(Mimic_lab_MV_Formatted_value.columns).intersection(set(Mimic_lab_CV_Formatted_value.columns)))\n",
    "Mimic_lab_CV_Formatted_value= Mimic_lab_CV_Formatted_value[Commonlab_lists]"
   ]
  },
  {
   "cell_type": "code",
   "execution_count": 14,
   "id": "norman-instrument",
   "metadata": {},
   "outputs": [],
   "source": [
    "Mimic_lab_MV_Formatted_value=Mimic_lab_MV_Formatted_value[Commonlab_lists]"
   ]
  },
  {
   "cell_type": "code",
   "execution_count": null,
   "id": "labeled-surfing",
   "metadata": {},
   "outputs": [],
   "source": [
    "# Computing missing percentage and variance of each lab_item\n",
    "percent_missing_CV_lab = Mimic_lab_CV_Formatted_value.isnull().sum() *100/ len(Mimic_lab_CV_Formatted_value)\n",
    "Variance_CV_lab = Mimic_lab_CV_Formatted_value.var().round(2)\n",
    "missing_value_df_CV_lab = pd.DataFrame({'column_name': Mimic_lab_CV_Formatted_value.columns,\n",
    "                                 'percent_missing_CV': percent_missing_CV_lab, 'variance_CV' : Variance_CV_lab})\n",
    "missing_value_df_CV_lab.reset_index(inplace=True)\n",
    "missing_value_df_CV_lab = pd.merge(item_id_labs, missing_value_df_CV_lab, how=\"inner\", on=[\"itemid\"])\n",
    "missing_value_df_CV_lab.sort_values(by='itemid', inplace=True)\n",
    "missing_value_df_CV_lab.set_index('itemid', inplace=True)\n",
    "missing_value_df_CV_lab.drop(columns=['row_id', 'column_name', 'fluid', 'category','loinc_code'], inplace=True)\n",
    "with pd.option_context('display.max_rows', None, 'display.max_columns', None):  # more options can be specified also\n",
    "    display(missing_value_df_CV_lab.round(3))\n",
    "    \n",
    "# filtering out the columns by missingness percent \n",
    "# missing_value_df_CV_lab[missing_value_df_CV_lab['percent_missing_CV']<40]"
   ]
  },
  {
   "cell_type": "code",
   "execution_count": null,
   "id": "upper-scott",
   "metadata": {},
   "outputs": [],
   "source": [
    "# Computing missing percentage and variance of each lab_item\n",
    "percent_missing_MV_lab = Mimic_lab_MV_Formatted_value.isnull().sum() *100/ len(Mimic_lab_MV_Formatted_value)\n",
    "Variance_MV_lab = Mimic_lab_MV_Formatted_value.var().round(2)\n",
    "missing_value_df_MV_lab = pd.DataFrame({'column_name': Mimic_lab_MV_Formatted_value.columns,\n",
    "                                 'percent_missing_MV': percent_missing_MV_lab, 'variance_MV' : Variance_MV_lab})\n",
    "missing_value_df_MV_lab.reset_index(inplace=True)\n",
    "missing_value_df_MV_lab = pd.merge(item_id_labs, missing_value_df_MV_lab, how=\"inner\", on=[\"itemid\"])\n",
    "missing_value_df_MV_lab.sort_values(by='itemid', inplace=True)\n",
    "missing_value_df_MV_lab.set_index('itemid', inplace=True)\n",
    "missing_value_df_MV_lab.drop(columns=['row_id', 'column_name', 'fluid', 'category','loinc_code'], inplace=True)\n",
    "with pd.option_context('display.max_rows', None, 'display.max_columns', None):  # more options can be specified also\n",
    "    display(missing_value_df_MV_lab.round(3))\n",
    "    \n",
    "# filtering out the columns by missingness percent \n",
    "# missing_value_df_CV_lab[missing_value_df_CV_lab['percent_missing_CV']<40]"
   ]
  },
  {
   "cell_type": "code",
   "execution_count": null,
   "id": "funny-anderson",
   "metadata": {},
   "outputs": [],
   "source": [
    "missing_value_lab_both = pd.concat([missing_value_df_CV_lab, missing_value_df_MV_lab[['percent_missing_MV','variance_MV']]], axis=1)\n",
    "missing_value_lab_both.sort_values(by='percent_missing_CV', ascending=False, inplace=True)\n",
    "with pd.option_context('display.max_rows', None, 'display.max_columns', None):  # more options can be specified also\n",
    "    display(missing_value_lab_both)"
   ]
  },
  {
   "cell_type": "code",
   "execution_count": 18,
   "id": "injured-corps",
   "metadata": {},
   "outputs": [],
   "source": [
    "# reseting index for plotting\n",
    "missing_value_lab_both.reset_index(inplace=True)"
   ]
  },
  {
   "cell_type": "code",
   "execution_count": null,
   "id": "tight-volleyball",
   "metadata": {},
   "outputs": [],
   "source": [
    "# # plotting the missingness rate and variance\n",
    "missing_value_lab_both.plot(x='label', y=[\"percent_missing_CV\", \"percent_missing_MV\"])\n",
    "plt.title(\"Missingness percentage\")\n",
    "plt.show()\n",
    "plt.close()\n",
    "\n",
    "# missing_value_lab_both.plot(x='label', y=[\"percent_missing_CV\", \"percent_missing_MV\"])\n",
    "missing_value_lab_both.plot(x='label', y=[\"variance_CV\", \"variance_MV\"], rot=0)\n",
    "# ax = missing_value_lab_both.plot(\n",
    "#     x='label', y=[\"percent_missing_CV\", \"percent_missing_MV\"], linestyle='-', marker='o')\n",
    "# missing_value_lab_both.plot(x='label', y=[\"variance_CV\", \"variance_MV\"], kind='bar',ax=ax,  rot=0)\n",
    "plt.title(\"Variance\")\n",
    "# plt.title(\"Missingness percentage, Variance\")\n",
    "plt.yscale('linear')\n",
    "plt.show()\n",
    "plt.close()"
   ]
  },
  {
   "cell_type": "code",
   "execution_count": null,
   "id": "monthly-upset",
   "metadata": {},
   "outputs": [],
   "source": [
    "with pd.option_context('display.max_rows', None, 'display.max_columns', None):  # more options can be specified also\n",
    "    display(missing_value_lab_both.sort_values(by='itemid', ascending=True))"
   ]
  },
  {
   "cell_type": "code",
   "execution_count": 33,
   "id": "vital-donna",
   "metadata": {},
   "outputs": [],
   "source": [
    "# Selecting only those that have missing value less than approximately 90 percent (58 in number)\n",
    "Final_lab_itemids_used = list(missing_value_lab_both[(missing_value_lab_both['percent_missing_CV']<90) & (missing_value_lab_both['percent_missing_MV']<90)].index)"
   ]
  },
  {
   "cell_type": "code",
   "execution_count": 34,
   "id": "arranged-cabinet",
   "metadata": {},
   "outputs": [],
   "source": [
    "# Final lab dataset\n",
    "Mimic_lab_CV_Formatted_value= Mimic_lab_CV_Formatted_value[Final_lab_itemids_used]\n",
    "Mimic_lab_MV_Formatted_value=Mimic_lab_MV_Formatted_value[Final_lab_itemids_used]"
   ]
  },
  {
   "cell_type": "code",
   "execution_count": 35,
   "id": "naughty-player",
   "metadata": {},
   "outputs": [
    {
     "name": "stdout",
     "output_type": "stream",
     "text": [
      "Care vue era lab admissions * labitems :  (32156, 58)\n",
      "Meta vision era lab admissions * labitems :  (21295, 58)\n"
     ]
    }
   ],
   "source": [
    "# Lab data observations rows \n",
    "print('Care vue era lab admissions * labitems : ', Mimic_lab_CV_Formatted_value.shape)\n",
    "print('Meta vision era lab admissions * labitems : ', Mimic_lab_MV_Formatted_value.shape)"
   ]
  },
  {
   "cell_type": "code",
   "execution_count": null,
   "id": "liquid-butterfly",
   "metadata": {
    "scrolled": true
   },
   "outputs": [],
   "source": [
    "Mimic_lab_CV_Formatted_value.head()"
   ]
  },
  {
   "cell_type": "code",
   "execution_count": null,
   "id": "atmospheric-colorado",
   "metadata": {},
   "outputs": [],
   "source": [
    "Mimic_lab_MV_Formatted_value.head()"
   ]
  },
  {
   "cell_type": "code",
   "execution_count": null,
   "id": "welsh-retirement",
   "metadata": {},
   "outputs": [],
   "source": [
    "# checking dtypes of the columns\n",
    "Mimic_lab_MV_Formatted_value.dtypes"
   ]
  },
  {
   "cell_type": "markdown",
   "id": "located-group",
   "metadata": {},
   "source": [
    "## Processing chartevents"
   ]
  },
  {
   "cell_type": "code",
   "execution_count": 3,
   "id": "effective-interval",
   "metadata": {},
   "outputs": [
    {
     "name": "stderr",
     "output_type": "stream",
     "text": [
      "/home/trips/Virtual_env_python/lib64/python3.6/site-packages/IPython/core/interactiveshell.py:3072: DtypeWarning: Columns (13,14) have mixed types.Specify dtype option on import or set low_memory=False.\n",
      "  interactivity=interactivity, compiler=compiler, result=result)\n"
     ]
    }
   ],
   "source": [
    "Mimic_chart_MV = pd.read_csv('mimic_chartevents_metavision.csv')\n",
    "Mimic_chart_CV = pd.read_csv('mimic_chartevents_carevue.csv')"
   ]
  },
  {
   "cell_type": "code",
   "execution_count": 4,
   "id": "mathematical-board",
   "metadata": {},
   "outputs": [],
   "source": [
    "# These two icustays are extra for one hadm_id. Not sure how they got in.\n",
    "Mimic_chart_MV = Mimic_chart_MV[Mimic_chart_MV['icustay_id'] != 281378]\n",
    "Mimic_chart_CV = Mimic_chart_CV[Mimic_chart_CV['icustay_id'] != 244034] "
   ]
  },
  {
   "cell_type": "code",
   "execution_count": 5,
   "id": "legendary-adelaide",
   "metadata": {},
   "outputs": [],
   "source": [
    "# It is known that error = 1 in Metavision had measurement errors so selecting observations containing only error=0 cases\n",
    "Mimic_chart_MV = Mimic_chart_MV[Mimic_chart_MV['error']==0]"
   ]
  },
  {
   "cell_type": "code",
   "execution_count": 6,
   "id": "cross-poker",
   "metadata": {},
   "outputs": [
    {
     "name": "stdout",
     "output_type": "stream",
     "text": [
      "CV orig obs shape  (5728193, 17)\n",
      "MV orig obs shape  (5089801, 17)\n"
     ]
    }
   ],
   "source": [
    "print(\"CV orig obs shape \",Mimic_chart_CV.shape)\n",
    "print(\"MV orig obs shape \",Mimic_chart_MV.shape)"
   ]
  },
  {
   "cell_type": "code",
   "execution_count": null,
   "id": "prompt-simpson",
   "metadata": {},
   "outputs": [],
   "source": [
    "Mimic_chart_CV.head()"
   ]
  },
  {
   "cell_type": "code",
   "execution_count": null,
   "id": "included-venezuela",
   "metadata": {},
   "outputs": [],
   "source": [
    "Mimic_chart_MV.head()"
   ]
  },
  {
   "cell_type": "code",
   "execution_count": null,
   "id": "unlimited-brand",
   "metadata": {},
   "outputs": [],
   "source": [
    "Mimic_chart_CV.dtypes"
   ]
  },
  {
   "cell_type": "code",
   "execution_count": 9,
   "id": "serial-classic",
   "metadata": {},
   "outputs": [],
   "source": [
    "# Changing the data view to get it in the subjects in rows and items in columns\n",
    "Mimic_chart_MV_Formatted_value = Mimic_chart_MV.pivot(index='hadm_id', columns='itemid', values='value')\n",
    "Mimic_chart_CV_Formatted_value = Mimic_chart_CV.pivot(index='hadm_id', columns='itemid', values='value')"
   ]
  },
  {
   "cell_type": "code",
   "execution_count": null,
   "id": "organic-firmware",
   "metadata": {},
   "outputs": [],
   "source": [
    "Mimic_chart_CV_Formatted_value"
   ]
  },
  {
   "cell_type": "code",
   "execution_count": null,
   "id": "outstanding-auckland",
   "metadata": {},
   "outputs": [],
   "source": [
    "Mimic_chart_MV_Formatted_value.head()"
   ]
  },
  {
   "cell_type": "code",
   "execution_count": null,
   "id": "offensive-twins",
   "metadata": {},
   "outputs": [],
   "source": [
    "# Getting the item ids that are metavision but used in carevue icustays\n",
    "Common_Chart_list = list(set(Mimic_chart_MV_Formatted_value.columns).intersection(set(Mimic_chart_CV_Formatted_value.columns)))"
   ]
  },
  {
   "cell_type": "code",
   "execution_count": 40,
   "id": "auburn-proposal",
   "metadata": {},
   "outputs": [],
   "source": [
    "# dropping the extra columns/itemids from metavision that appeared in carevue data\n",
    "# Removing only from CV dataset (and not from MV dataset) because these columns originaly beong to Metavision\n",
    "Mimic_chart_CV_Formatted_value.drop(columns=Common_Chart_list, inplace=True)"
   ]
  },
  {
   "cell_type": "code",
   "execution_count": 41,
   "id": "compatible-protection",
   "metadata": {},
   "outputs": [
    {
     "name": "stdout",
     "output_type": "stream",
     "text": [
      " No common itemid. All good here!\n"
     ]
    }
   ],
   "source": [
    "# check to make sure if there is any common itemid between two eras\n",
    "if list(set(Mimic_chart_MV_Formatted_value.columns).intersection(set(Mimic_chart_CV_Formatted_value.columns))) ==[]:\n",
    "    print(\" No common itemid. All good here!\")"
   ]
  },
  {
   "cell_type": "code",
   "execution_count": 42,
   "id": "aggregate-conviction",
   "metadata": {},
   "outputs": [
    {
     "name": "stdout",
     "output_type": "stream",
     "text": [
      " No common hadm_id. All good here!\n"
     ]
    }
   ],
   "source": [
    "# check to make sure if there is any common admission between two eras\n",
    "if list(set(Mimic_chart_MV_Formatted_value.index).intersection(set(Mimic_chart_CV_Formatted_value.index))) ==[]:\n",
    "        print(\" No common hadm_id. All good here!\")"
   ]
  },
  {
   "cell_type": "code",
   "execution_count": 43,
   "id": "equivalent-skating",
   "metadata": {},
   "outputs": [
    {
     "name": "stdout",
     "output_type": "stream",
     "text": [
      "CV formatted obs shape  (33669, 2751)\n",
      "MV formatted obs shape  (21429, 1538)\n"
     ]
    }
   ],
   "source": [
    "print(\"CV formatted obs shape \",Mimic_chart_CV_Formatted_value.shape)\n",
    "print(\"MV formatted obs shape \",Mimic_chart_MV_Formatted_value.shape)"
   ]
  },
  {
   "cell_type": "code",
   "execution_count": 44,
   "id": "tender-possession",
   "metadata": {},
   "outputs": [],
   "source": [
    "# Selecting hadm_ids associate with patients older than 18 years\n",
    "adult_hadmid_CV = list(set(Mimic_chart_CV_Formatted_value.index).intersection(set(list(patients_adm_age['hadm_id']))))\n",
    "adult_hadmid_MV = list(set(Mimic_chart_MV_Formatted_value.index).intersection(set(list(patients_adm_age['hadm_id']))))"
   ]
  },
  {
   "cell_type": "code",
   "execution_count": 45,
   "id": "structured-metallic",
   "metadata": {},
   "outputs": [],
   "source": [
    "# selecting only adult patients in the dataset\n",
    "Mimic_chart_CV_Formatted_value = Mimic_chart_CV_Formatted_value.loc[adult_hadmid_CV]\n",
    "Mimic_chart_MV_Formatted_value = Mimic_chart_MV_Formatted_value.loc[adult_hadmid_MV]"
   ]
  },
  {
   "cell_type": "code",
   "execution_count": 46,
   "id": "aboriginal-enhancement",
   "metadata": {},
   "outputs": [
    {
     "name": "stdout",
     "output_type": "stream",
     "text": [
      "CV formatted (ADULTS) obs shape  (26383, 2751)\n",
      "MV formatted (ADULTS) obs shape  (21401, 1538)\n"
     ]
    }
   ],
   "source": [
    "print(\"CV formatted (ADULTS) obs shape \",Mimic_chart_CV_Formatted_value.shape)\n",
    "print(\"MV formatted (ADULTS) obs shape \",Mimic_chart_MV_Formatted_value.shape)"
   ]
  },
  {
   "cell_type": "code",
   "execution_count": null,
   "id": "floral-tourism",
   "metadata": {},
   "outputs": [],
   "source": [
    "Mimic_chart_CV_Formatted_value.head()"
   ]
  },
  {
   "cell_type": "code",
   "execution_count": null,
   "id": "bored-trauma",
   "metadata": {},
   "outputs": [],
   "source": [
    "Mimic_chart_MV_Formatted_value.head()"
   ]
  },
  {
   "cell_type": "code",
   "execution_count": null,
   "id": "usual-quantum",
   "metadata": {},
   "outputs": [],
   "source": [
    "# [print(i) for i in list(Mimic_chart_CV_Formatted_value.columns) if np.array_equal(Mimic_chart_CV_Formatted_value[i], Mimic_chart_CV_Formatted_value[i].astype(int))==True]\n",
    "Mimic_chart_CV_Formatted_value.convert_dtypes().dtypes"
   ]
  },
  {
   "cell_type": "code",
   "execution_count": 51,
   "id": "treated-acrylic",
   "metadata": {},
   "outputs": [
    {
     "name": "stdout",
     "output_type": "stream",
     "text": [
      "Num of numeric variables  1793\n",
      "Initial Num of non-numeric CV varibles  958\n"
     ]
    }
   ],
   "source": [
    "# partitioning the list of variables in numeric and non-numeric; there are cases where the non-numerics are \n",
    "# actually numeric but due to someterms like error or no data they hav gone into non-numeric set.\n",
    "initial_list_itemid_non_num_CV = []\n",
    "list_itemid_num_CV = []\n",
    "for i in Mimic_chart_CV_Formatted_value.columns:\n",
    "    try :\n",
    "        pd.to_numeric(Mimic_chart_CV_Formatted_value[i], downcast='float')\n",
    "        list_itemid_num_CV.append(i)\n",
    "    except ValueError:\n",
    "        temp = pd.to_numeric(Mimic_chart_CV_Formatted_value[i].unique(), errors='coerce', downcast='float')\n",
    "        if np.isnan(temp).sum()!=len(temp):\n",
    "            list_itemid_num_CV.append(i)\n",
    "        else:\n",
    "            initial_list_itemid_non_num_CV.append(i)\n",
    "        pass\n",
    "print(\"Num of numeric variables \", len(list_itemid_num_CV))\n",
    "print(\"Initial Num of non-numeric CV varibles \", len(initial_list_itemid_non_num_CV))"
   ]
  },
  {
   "cell_type": "code",
   "execution_count": 52,
   "id": "suspected-particle",
   "metadata": {},
   "outputs": [
    {
     "name": "stdout",
     "output_type": "stream",
     "text": [
      "Number of categoricals  834\n"
     ]
    }
   ],
   "source": [
    "# exploring the non-numeric Carevue era variables and selecting only those that have some categorical forms\n",
    "ctr_cat = 0 \n",
    "list_itemid_cat_CV = []  # decided as those that have less than 10 unique values\n",
    "for i in initial_list_itemid_non_num_CV:\n",
    "    if len(Mimic_chart_CV_Formatted_value[i].unique()) <= 10:\n",
    "#         print(\" Variable name and id \", item_id_dbsource[item_id_dbsource['itemid']==i]['label'], i)\n",
    "#         print(Mimic_chart_CV_Formatted_value[i].unique(), \"\\n\")\n",
    "        list_itemid_cat_CV.append(i)\n",
    "        ctr_cat = ctr_cat +1\n",
    "print('Number of categoricals ', len(list_itemid_cat_CV))"
   ]
  },
  {
   "cell_type": "code",
   "execution_count": 53,
   "id": "korean-rocket",
   "metadata": {},
   "outputs": [],
   "source": [
    "# converting the numeric type variables for CV from string to float\n",
    "for i in list_itemid_num_CV:\n",
    "    Mimic_chart_CV_Formatted_value[i] = pd.to_numeric(Mimic_chart_CV_Formatted_value[i], errors='coerce')"
   ]
  },
  {
   "cell_type": "code",
   "execution_count": 215,
   "id": "crucial-moisture",
   "metadata": {},
   "outputs": [],
   "source": [
    "# converting the numeric type variables for MV from string to float\n",
    "list_itemid_num_MV = list(set(list_itemid_num_MV).intersection(set(Mimic_chart_MV_Formatted_value.columns)))\n",
    "list_itemid_cat_MV = list(set(list_itemid_cat_MV).intersection(set(Mimic_chart_MV_Formatted_value.columns)))\n",
    "for i in list_itemid_num_MV:\n",
    "    Mimic_chart_MV_Formatted_value[i] = pd.to_numeric(Mimic_chart_MV_Formatted_value[i], errors='coerce')"
   ]
  },
  {
   "cell_type": "code",
   "execution_count": null,
   "id": "found-saturday",
   "metadata": {},
   "outputs": [],
   "source": [
    "# finding the missing ratio of all the Carevue columns to eliminate the ones that have very high missing ratio\n",
    "percent_missing_CV = Mimic_chart_CV_Formatted_value.isnull().sum() *100/ len(Mimic_chart_CV_Formatted_value)\n",
    "Variance_CV_charts = Mimic_chart_CV_Formatted_value[list_itemid_num_CV].var().round(2)\n",
    "missing_value_df_CV = pd.DataFrame({'column_name': Mimic_chart_CV_Formatted_value.columns,\n",
    "                                 'percent_missing_CV': percent_missing_CV})\n",
    "missing_value_df_CV.reset_index(inplace=True)\n",
    "missing_value_df_CV = pd.merge(item_id_dbsource, missing_value_df_CV, how=\"inner\", on=[\"itemid\"])\n",
    "missing_value_df_CV.drop(columns=['column_name', 'dbsource'], inplace=True)\n",
    "missing_value_df_CV.set_index('itemid', inplace=True)\n",
    "missing_value_df_CV.sort_values(by='percent_missing_CV', ascending=False, inplace=True)\n",
    "with pd.option_context('display.max_rows', None, 'display.max_columns', None):  # more options can be specified also\n",
    "    display(missing_value_df_CV)\n"
   ]
  },
  {
   "cell_type": "code",
   "execution_count": 277,
   "id": "duplicate-munich",
   "metadata": {},
   "outputs": [],
   "source": [
    "# finding the missing ratio of all Metavision columns to eliminate the ones that have very high missing ratio\n",
    "percent_missing_MV = Mimic_chart_MV_Formatted_value.isnull().sum() *100/ len(Mimic_chart_MV_Formatted_value)\n",
    "missing_value_df_MV = pd.DataFrame({'column_name': Mimic_chart_MV_Formatted_value.columns,\n",
    "                                 'percent_missing_MV': percent_missing_MV})\n",
    "missing_value_df_MV.reset_index(inplace=True)\n",
    "missing_value_df_MV = pd.merge(item_id_dbsource, missing_value_df_MV, how=\"inner\", on=[\"itemid\"])\n",
    "missing_value_df_MV.drop(columns=['column_name', 'dbsource'], inplace=True)\n",
    "missing_value_df_MV.set_index('itemid', inplace=True)\n",
    "missing_value_df_MV.sort_values(by='percent_missing_MV', ascending=False, inplace=True)\n",
    "with pd.option_context('display.max_rows', None, 'display.max_columns', None):  # more options can be specified also\n",
    "    display(missing_value_df_MV)\n",
    "    "
   ]
  },
  {
   "cell_type": "code",
   "execution_count": null,
   "id": "upset-freeze",
   "metadata": {},
   "outputs": [],
   "source": [
    "missing_value_df_MV[missing_value_df_MV.index.isin(final_itemids_chart_MV_bin)]"
   ]
  },
  {
   "cell_type": "code",
   "execution_count": 307,
   "id": "bright-lambda",
   "metadata": {},
   "outputs": [],
   "source": [
    "# selecting only columns that have less than 80 percent missing values\n",
    "final_itemids_chart_CV_num = list(missing_value_df_CV[(missing_value_df_CV.index.isin(list_itemid_num_CV)) & (missing_value_df_CV['percent_missing_CV']<80)].index)\n",
    "final_itemids_chart_CV_cat = list(missing_value_df_CV[(missing_value_df_CV.index.isin(list_itemid_cat_CV)) & (missing_value_df_CV['percent_missing_CV']<80)].index)\n",
    "# final_itemids_chart_CV_t = final_itemids_chart_CV_num + final_itemids_chart_CV_cat\n",
    "final_itemids_chart_MV_num = list(missing_value_df_MV[(missing_value_df_MV.index.isin(list_itemid_num_MV)) & (missing_value_df_MV['percent_missing_MV']<80)].index)\n",
    "final_itemids_chart_MV_cat = list(missing_value_df_MV[(missing_value_df_MV.index.isin(list_itemid_cat_MV)) & (missing_value_df_MV['percent_missing_MV']<80)].index)\n",
    "# final_itemids_chart_MV_t = final_itemids_chart_MV_num + final_itemids_chart_MV_cat\n",
    "\n",
    "\n",
    "final_itemids_chart_CV = missing_value_df_CV[(missing_value_df_CV.index.isin(list_itemid_num_CV + list_itemid_cat_CV)) & (missing_value_df_CV['percent_missing_CV']<80)].index\n",
    "final_itemids_chart_MV = missing_value_df_MV[(missing_value_df_MV.index.isin(list_itemid_num_MV + list_itemid_cat_MV)) & (missing_value_df_MV['percent_missing_MV']<80)].index"
   ]
  },
  {
   "cell_type": "code",
   "execution_count": 288,
   "id": "inclusive-globe",
   "metadata": {},
   "outputs": [],
   "source": [
    "# selecting only columns that have less than 80 percent missing values\n",
    "Mimic_chart_CV_Formatted_value = Mimic_chart_CV_Formatted_value[final_itemids_chart_CV]\n",
    "Mimic_chart_MV_Formatted_value = Mimic_chart_MV_Formatted_value[final_itemids_chart_MV]"
   ]
  },
  {
   "cell_type": "code",
   "execution_count": 289,
   "id": "honest-police",
   "metadata": {},
   "outputs": [
    {
     "name": "stdout",
     "output_type": "stream",
     "text": [
      "CV formatted (ADULTS, less missing) obs shape  (26383, 208)\n",
      "MV formatted (ADULTS, less missing) obs shape  (21401, 148)\n"
     ]
    }
   ],
   "source": [
    "print(\"CV formatted (ADULTS, less missing) obs shape \",Mimic_chart_CV_Formatted_value.shape)\n",
    "print(\"MV formatted (ADULTS, less missing) obs shape \",Mimic_chart_MV_Formatted_value.shape)"
   ]
  },
  {
   "cell_type": "code",
   "execution_count": null,
   "id": "mounted-bowling",
   "metadata": {},
   "outputs": [],
   "source": [
    "# checking the dtypes of different columns\n",
    "Mimic_chart_MV_Formatted_value.dtypes == 'object'"
   ]
  },
  {
   "cell_type": "code",
   "execution_count": 291,
   "id": "massive-rainbow",
   "metadata": {},
   "outputs": [],
   "source": [
    "# Final hadm_ids common between lab and chartevents\n",
    "final_hadmid_CV = list(set(Mimic_chart_CV_Formatted_value.index).intersection(set(Mimic_lab_CV_Formatted_value.index)))\n",
    "final_hadmid_MV = list(set(Mimic_chart_MV_Formatted_value.index).intersection(set(Mimic_lab_MV_Formatted_value.index)))"
   ]
  },
  {
   "cell_type": "code",
   "execution_count": 292,
   "id": "stopped-uncertainty",
   "metadata": {},
   "outputs": [],
   "source": [
    "# Final dataset Chartevents that has common hadm_ids with labevents dataset\n",
    "Mimic_chart_CV_Formatted_value = Mimic_chart_CV_Formatted_value.loc[final_hadmid_CV]\n",
    "Mimic_chart_MV_Formatted_value = Mimic_chart_MV_Formatted_value.loc[final_hadmid_MV]"
   ]
  },
  {
   "cell_type": "code",
   "execution_count": 347,
   "id": "chubby-assessment",
   "metadata": {},
   "outputs": [],
   "source": [
    "# Final dataset labevents  that has common hadm_ids with chartevents dataset\n",
    "Mimic_lab_CV_Formatted_value = Mimic_lab_CV_Formatted_value.loc[final_hadmid_CV]\n",
    "Mimic_lab_MV_Formatted_value = Mimic_lab_MV_Formatted_value.loc[final_hadmid_MV]"
   ]
  },
  {
   "cell_type": "code",
   "execution_count": 348,
   "id": "intensive-banner",
   "metadata": {},
   "outputs": [
    {
     "name": "stdout",
     "output_type": "stream",
     "text": [
      "Chart CV formatted (ADULTS, less missing, common with labs) obs shape  (26130, 208)\n",
      "Chart MV formatted (ADULTS, less missing, common with labs) obs shape  (21125, 148)\n"
     ]
    }
   ],
   "source": [
    "print(\"Chart CV formatted (ADULTS, less missing, common with labs) obs shape \",Mimic_chart_CV_Formatted_value.shape)\n",
    "print(\"Chart MV formatted (ADULTS, less missing, common with labs) obs shape \",Mimic_chart_MV_Formatted_value.shape)"
   ]
  },
  {
   "cell_type": "code",
   "execution_count": 349,
   "id": "painted-popularity",
   "metadata": {},
   "outputs": [
    {
     "name": "stdout",
     "output_type": "stream",
     "text": [
      "Lab CV formatted (ADULTS, less missing, common with labs) obs shape  (26130, 58)\n",
      "Lab MV formatted (ADULTS, less missing, common with labs) obs shape  (21125, 58)\n"
     ]
    }
   ],
   "source": [
    "print(\"Lab CV formatted (ADULTS, less missing, common with labs) obs shape \",Mimic_lab_CV_Formatted_value.shape)\n",
    "print(\"Lab MV formatted (ADULTS, less missing, common with labs) obs shape \",Mimic_lab_MV_Formatted_value.shape)"
   ]
  },
  {
   "cell_type": "code",
   "execution_count": 355,
   "id": "orange-tattoo",
   "metadata": {},
   "outputs": [],
   "source": [
    "# Saving the datasets that still need imputation and standardization and one hot encoding too\n",
    "Mimic_lab_chart_CV.to_csv('Final_MIMIC_lab_chart_CV.csv')\n",
    "Mimic_lab_chart_MV.to_csv('Final_MIMIC_lab_chart_MV.csv')"
   ]
  }
 ],
 "metadata": {
  "kernelspec": {
   "display_name": "Python 3",
   "language": "python",
   "name": "python3"
  },
  "language_info": {
   "codemirror_mode": {
    "name": "ipython",
    "version": 3
   },
   "file_extension": ".py",
   "mimetype": "text/x-python",
   "name": "python",
   "nbconvert_exporter": "python",
   "pygments_lexer": "ipython3",
   "version": "3.6.8"
  }
 },
 "nbformat": 4,
 "nbformat_minor": 5
}
